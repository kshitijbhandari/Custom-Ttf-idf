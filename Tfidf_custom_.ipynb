{
  "cells": [
    {
      "cell_type": "markdown",
      "metadata": {
        "id": "h9464I-uxLiw"
      },
      "source": [
        "# Assignment"
      ]
    },
    {
      "cell_type": "markdown",
      "metadata": {
        "id": "IvLvmewlxLix"
      },
      "source": [
        "<font face='georgia'>\n",
        "    \n",
        "   <h4><strong>What does tf-idf mean?</strong></h4>\n",
        "\n",
        "   <p>    \n",
        "Tf-idf stands for <em>term frequency-inverse document frequency</em>, and the tf-idf weight is a weight often used in information retrieval and text mining. This weight is a statistical measure used to evaluate how important a word is to a document in a collection or corpus. The importance increases proportionally to the number of times a word appears in the document but is offset by the frequency of the word in the corpus. Variations of the tf-idf weighting scheme are often used by search engines as a central tool in scoring and ranking a document's relevance given a user query.\n",
        "</p>\n",
        "    \n",
        "   <p>\n",
        "One of the simplest ranking functions is computed by summing the tf-idf for each query term; many more sophisticated ranking functions are variants of this simple model.\n",
        "</p>\n",
        "    \n",
        "   <p>\n",
        "Tf-idf can be successfully used for stop-words filtering in various subject fields including text summarization and classification.\n",
        "</p>\n",
        "    \n",
        "</font>"
      ]
    },
    {
      "cell_type": "markdown",
      "metadata": {
        "id": "4XLaGFUMxLiy"
      },
      "source": [
        "<font face='georgia'>\n",
        "    <h4><strong>How to Compute:</strong></h4>\n",
        "\n",
        "Typically, the tf-idf weight is composed by two terms: the first computes the normalized Term Frequency (TF), aka. the number of times a word appears in a document, divided by the total number of words in that document; the second term is the Inverse Document Frequency (IDF), computed as the logarithm of the number of the documents in the corpus divided by the number of documents where the specific term appears.\n",
        "\n",
        " <ul>\n",
        "    <li>\n",
        "<strong>TF:</strong> Term Frequency, which measures how frequently a term occurs in a document. Since every document is different in length, it is possible that a term would appear much more times in long documents than shorter ones. Thus, the term frequency is often divided by the document length (aka. the total number of terms in the document) as a way of normalization: <br>\n",
        "\n",
        "$TF(t) = \\frac{\\text{Number of times term t appears in a document}}{\\text{Total number of terms in the document}}.$\n",
        "</li>\n",
        "<li>\n",
        "<strong>IDF:</strong> Inverse Document Frequency, which measures how important a term is. While computing TF, all terms are considered equally important. However it is known that certain terms, such as \"is\", \"of\", and \"that\", may appear a lot of times but have little importance. Thus we need to weigh down the frequent terms while scale up the rare ones, by computing the following: <br>\n",
        "\n",
        "$IDF(t) = \\log_{e}\\frac{\\text{Total  number of documents}} {\\text{Number of documents with term t in it}}.$\n",
        "for numerical stabiltiy we will be changing this formula little bit\n",
        "$IDF(t) = \\log_{e}\\frac{\\text{Total  number of documents}} {\\text{Number of documents with term t in it}+1}.$\n",
        "</li>\n",
        "</ul>\n",
        "\n",
        "<br>\n",
        "<h4><strong>Example</strong></h4>\n",
        "<p>\n",
        "\n",
        "Consider a document containing 100 words wherein the word cat appears 3 times. The term frequency (i.e., tf) for cat is then (3 / 100) = 0.03. Now, assume we have 10 million documents and the word cat appears in one thousand of these. Then, the inverse document frequency (i.e., idf) is calculated as log(10,000,000 / 1,000) = 4. Thus, the Tf-idf weight is the product of these quantities: 0.03 * 4 = 0.12.\n",
        "</p>\n",
        "</font>"
      ]
    },
    {
      "cell_type": "markdown",
      "metadata": {
        "id": "dg2ooa4DxLiz"
      },
      "source": [
        "## Task-1"
      ]
    },
    {
      "cell_type": "markdown",
      "metadata": {
        "id": "TAcTjhO8xLiz"
      },
      "source": [
        "<font face='georgia'>\n",
        "    <h4><strong>1. Build a TFIDF Vectorizer & compare its results with Sklearn:</strong></h4>\n",
        "\n",
        "<ul>\n",
        "    <li> As a part of this task you will be implementing TFIDF vectorizer on a collection of text documents.</li>\n",
        "    <br>\n",
        "    <li> You should compare the results of your own implementation of TFIDF vectorizer with that of sklearns implemenation TFIDF vectorizer.</li>\n",
        "    <br>\n",
        "    <li> Sklearn does few more tweaks in the implementation of its version of TFIDF vectorizer, so to replicate the exact results you would need to add following things to your custom implementation of tfidf vectorizer:\n",
        "       <ol>\n",
        "        <li> Sklearn has its vocabulary generated from idf sroted in alphabetical order</li>\n",
        "        <li> Sklearn formula of idf is different from the standard textbook formula. Here the constant <strong>\"1\"</strong> is added to the numerator and denominator of the idf as if an extra document was seen containing every term in the collection exactly once, which prevents zero divisions.\n",
        "            \n",
        " $IDF(t) = 1+\\log_{e}\\frac{1\\text{ }+\\text{ Total  number of documents in collection}} {1+\\text{Number of documents with term t in it}}.$\n",
        "        </li>\n",
        "        <li> Sklearn applies L2-normalization on its output matrix.</li>\n",
        "        <li> The final output of sklearn tfidf vectorizer is a sparse matrix.</li>\n",
        "    </ol>\n",
        "    <br>\n",
        "    <li>Steps to approach this task:\n",
        "    <ol>\n",
        "        <li> You would have to write both fit and transform methods for your custom implementation of tfidf vectorizer.</li>\n",
        "        <li> Print out the alphabetically sorted voacb after you fit your data and check if its the same as that of the feature names from sklearn tfidf vectorizer. </li>\n",
        "        <li> Print out the idf values from your implementation and check if its the same as that of sklearns tfidf vectorizer idf values. </li>\n",
        "        <li> Once you get your voacb and idf values to be same as that of sklearns implementation of tfidf vectorizer, proceed to the below steps. </li>\n",
        "        <li> Make sure the output of your implementation is a sparse matrix. Before generating the final output, you need to normalize your sparse matrix using L2 normalization. You can refer to this link https://scikit-learn.org/stable/modules/generated/sklearn.preprocessing.normalize.html </li>\n",
        "        <li> After completing the above steps, print the output of your custom implementation and compare it with sklearns implementation of tfidf vectorizer.</li>\n",
        "        <li> To check the output of a single document in your collection of documents,  you can convert the sparse matrix related only to that document into dense matrix and print it.</li>\n",
        "        </ol>\n",
        "    </li>\n",
        "    <br>\n",
        "   </ul>\n",
        "\n",
        "  <p> <font color=\"#e60000\"><strong>Note-1: </strong></font> All the necessary outputs of sklearns tfidf vectorizer have been provided as reference in this notebook, you can compare your outputs as mentioned in the above steps, with these outputs.<br>\n",
        "   <font color=\"#e60000\"><strong>Note-2: </strong></font> The output of your custom implementation and that of sklearns implementation would match only with the collection of document strings provided to you as reference in this notebook. It would not match for strings that contain capital letters or punctuations, etc, because sklearn version of tfidf vectorizer deals with such strings in a different way. To know further details about how sklearn tfidf vectorizer works with such string, you can always refer to its official documentation.<br>\n",
        "   <font color=\"#e60000\"><strong>Note-3: </strong></font> During this task, it would be helpful for you to debug the code you write with print statements wherever necessary. But when you are finally submitting the assignment, make sure your code is readable and try not to print things which are not part of this task.\n",
        "    </p>"
      ]
    },
    {
      "cell_type": "markdown",
      "metadata": {
        "id": "OnV82tg1xLi0"
      },
      "source": [
        "### Corpus"
      ]
    },
    {
      "cell_type": "code",
      "execution_count": null,
      "metadata": {
        "id": "bUsYm9wjxLi1"
      },
      "outputs": [],
      "source": [
        "## SkLearn# Collection of string documents\n",
        "\n",
        "corpus = [\n",
        "     'this is the first document',\n",
        "     'this document is the second document',\n",
        "     'and this is the third one',\n",
        "     'is this the first document',\n",
        "]"
      ]
    },
    {
      "cell_type": "markdown",
      "metadata": {
        "id": "eLwmFZfKxLi4"
      },
      "source": [
        "### SkLearn Implementation"
      ]
    },
    {
      "cell_type": "code",
      "execution_count": null,
      "metadata": {
        "id": "Np4dfQOkxLi4"
      },
      "outputs": [],
      "source": [
        "from sklearn.feature_extraction.text import TfidfVectorizer\n",
        "vectorizer = TfidfVectorizer()\n",
        "vectorizer.fit(corpus)\n",
        "skl_output = vectorizer.transform(corpus)"
      ]
    },
    {
      "cell_type": "code",
      "execution_count": null,
      "metadata": {
        "id": "-7Om8YpYxLi6",
        "outputId": "0a3bd0f5-4424-4400-944f-4482a80bd799"
      },
      "outputs": [
        {
          "name": "stdout",
          "output_type": "stream",
          "text": [
            "['and', 'document', 'first', 'is', 'one', 'second', 'the', 'third', 'this']\n"
          ]
        }
      ],
      "source": [
        "# sklearn feature names, they are sorted in alphabetic order by default.\n",
        "\n",
        "print(vectorizer.get_feature_names())"
      ]
    },
    {
      "cell_type": "code",
      "execution_count": null,
      "metadata": {
        "id": "dTKplK96xLi-",
        "outputId": "53722fa2-6756-4aa0-f179-37b578bb6890"
      },
      "outputs": [
        {
          "name": "stdout",
          "output_type": "stream",
          "text": [
            "[1.91629073 1.22314355 1.51082562 1.         1.91629073 1.91629073\n",
            " 1.         1.91629073 1.        ]\n"
          ]
        }
      ],
      "source": [
        "# Here we will print the sklearn tfidf vectorizer idf values after applying the fit method\n",
        "# After using the fit function on the corpus the vocab has 9 words in it, and each has its idf value.\n",
        "\n",
        "print(vectorizer.idf_)"
      ]
    },
    {
      "cell_type": "code",
      "execution_count": null,
      "metadata": {
        "id": "-CTiWHygxLjA",
        "outputId": "8d5a9cde-2c29-4afe-f7b4-1547e88dba4f"
      },
      "outputs": [
        {
          "data": {
            "text/plain": [
              "(4, 9)"
            ]
          },
          "execution_count": 47,
          "metadata": {},
          "output_type": "execute_result"
        }
      ],
      "source": [
        "# shape of sklearn tfidf vectorizer output after applying transform method.\n",
        "\n",
        "skl_output.shape"
      ]
    },
    {
      "cell_type": "code",
      "execution_count": null,
      "metadata": {
        "id": "bDKEpbA-xLjD",
        "outputId": "87dafd65-5313-443f-8c6e-1b05cc8c2543"
      },
      "outputs": [
        {
          "name": "stdout",
          "output_type": "stream",
          "text": [
            "  (0, 8)\t0.38408524091481483\n",
            "  (0, 6)\t0.38408524091481483\n",
            "  (0, 3)\t0.38408524091481483\n",
            "  (0, 2)\t0.5802858236844359\n",
            "  (0, 1)\t0.46979138557992045\n"
          ]
        }
      ],
      "source": [
        "# sklearn tfidf values for first line of the above corpus.\n",
        "# Here the output is a sparse matrix\n",
        "\n",
        "print(skl_output[0])"
      ]
    },
    {
      "cell_type": "code",
      "execution_count": null,
      "metadata": {
        "id": "3QWo34hexLjF",
        "outputId": "cdc04e08-989f-4bdc-dd7f-f1c82a9f90be"
      },
      "outputs": [
        {
          "name": "stdout",
          "output_type": "stream",
          "text": [
            "[[0.         0.6876236  0.         0.28108867 0.         0.53864762\n",
            "  0.28108867 0.         0.28108867]]\n"
          ]
        }
      ],
      "source": [
        "# sklearn tfidf values for first line of the above corpus.\n",
        "# To understand the output better, here we are converting the sparse output matrix to dense matrix and printing it.\n",
        "# Notice that this output is normalized using L2 normalization. sklearn does this by default.\n",
        "\n",
        "print(skl_output[1].toarray())"
      ]
    },
    {
      "cell_type": "markdown",
      "metadata": {
        "id": "qfIwx5LzxLjI"
      },
      "source": [
        "### Your custom implementation"
      ]
    },
    {
      "cell_type": "code",
      "execution_count": null,
      "metadata": {
        "id": "NMiAhoD90gMx"
      },
      "outputs": [],
      "source": [
        "import numpy as np\n",
        "import math\n",
        "import operator\n",
        "from collections import Counter\n",
        "from tqdm import tqdm\n",
        "from scipy.sparse import csr_matrix\n",
        "from sklearn.preprocessing import normalize\n",
        "\n",
        "corpus = [\n",
        "     'this is the first document',\n",
        "     'this document is the second document',\n",
        "     'and this is the third one',\n",
        "     'is this the first document',\n",
        "]\n",
        "def fit (corpus):\n",
        "    if isinstance(corpus,(list,)):\n",
        "        unique_word= set()\n",
        "        for row in corpus:\n",
        "            for word in row.split(\" \"):\n",
        "                if len(word)<2:\n",
        "                    pass\n",
        "                unique_word.add(word)\n",
        "        unique_word=sorted(list(unique_word))\n",
        "        vocab={j:i for i,j in enumerate (unique_word)}\n",
        "\n",
        "        return unique_word,vocab\n",
        "#         return vocab\n",
        "    else:\n",
        "        print(\"no\")\n",
        "\n"
      ]
    },
    {
      "cell_type": "code",
      "execution_count": null,
      "metadata": {
        "id": "J51i7lXC0gMx",
        "outputId": "0230df2c-676b-46b6-8bd8-63dee45b104d"
      },
      "outputs": [
        {
          "data": {
            "text/plain": [
              "(['and', 'document', 'first', 'is', 'one', 'second', 'the', 'third', 'this'],\n",
              " {'and': 0,\n",
              "  'document': 1,\n",
              "  'first': 2,\n",
              "  'is': 3,\n",
              "  'one': 4,\n",
              "  'second': 5,\n",
              "  'the': 6,\n",
              "  'third': 7,\n",
              "  'this': 8})"
            ]
          },
          "execution_count": 51,
          "metadata": {},
          "output_type": "execute_result"
        }
      ],
      "source": [
        "fit (corpus)"
      ]
    },
    {
      "cell_type": "code",
      "execution_count": null,
      "metadata": {
        "id": "XC3VqNnH0gMy"
      },
      "outputs": [],
      "source": [
        "def transform (corpus):\n",
        "    unique_word,vocab=fit(corpus)\n",
        "    rows=[]\n",
        "    columns=[]\n",
        "    values=[]\n",
        "    word_list=[]\n",
        "    idf_list=[]\n",
        "\n",
        "    for word in unique_word:\n",
        "        word_list.append(word)\n",
        "        count = 0\n",
        "        for row in corpus:\n",
        "            if word in row:\n",
        "                count += 1\n",
        "        idf = 1 + (math.log(((1 + len(corpus)) / (1 + count))))\n",
        "        idf_list.append(idf)\n",
        "\n",
        "        idf_dict={word_list[i]:idf_list[i] for i in range(len(word_list))}\n",
        "\n",
        "\n",
        "\n",
        "\n",
        "    for idx, row in enumerate (tqdm(corpus)):\n",
        "        word_count=dict(Counter(row.split()))\n",
        "\n",
        "        for word,freq in word_count.items():\n",
        "            sum_freq=np.sum(freq)\n",
        "            if len(word)<2:\n",
        "                pass\n",
        "            tf=freq/len(word_count)\n",
        "\n",
        "            tfidf=tf*idf_dict.get(word)\n",
        "\n",
        "            col_indx=vocab.get(word,-1)\n",
        "\n",
        "            if tfidf!=0:\n",
        "                rows.append(idx)\n",
        "                columns.append(vocab.get(word))\n",
        "                values.append(tfidf)\n",
        "\n",
        "    final_mat=csr_matrix((values,(rows,columns)),shape=(len(corpus),len(vocab)))\n",
        "#     print (final_mat)\n",
        "    normal_final=normalize(final_mat,norm='l2')\n",
        "#     print (normal_final[0])\n",
        "    return normal_final"
      ]
    },
    {
      "cell_type": "code",
      "execution_count": null,
      "metadata": {
        "id": "Jgt5D-b00gMy",
        "outputId": "a26e0151-9c53-4cb3-c704-84918d502450"
      },
      "outputs": [
        {
          "name": "stderr",
          "output_type": "stream",
          "text": [
            "100%|██████████████████████████████████████████████████████████████████████████████████| 4/4 [00:00<00:00, 4000.29it/s]"
          ]
        },
        {
          "name": "stdout",
          "output_type": "stream",
          "text": [
            "  (0, 1)\t0.4697913855799205\n",
            "  (0, 2)\t0.580285823684436\n",
            "  (0, 3)\t0.3840852409148149\n",
            "  (0, 6)\t0.3840852409148149\n",
            "  (0, 8)\t0.3840852409148149\n"
          ]
        },
        {
          "name": "stderr",
          "output_type": "stream",
          "text": [
            "\n"
          ]
        }
      ],
      "source": [
        "print(transform(corpus)[0])"
      ]
    },
    {
      "cell_type": "code",
      "execution_count": null,
      "metadata": {
        "id": "zeCmMofu0gMy",
        "outputId": "1944b243-29cc-4d36-8829-816830189edc"
      },
      "outputs": [
        {
          "name": "stderr",
          "output_type": "stream",
          "text": [
            "100%|██████████████████████████████████████████████████████████████████████████████████| 4/4 [00:00<00:00, 3743.24it/s]\n"
          ]
        },
        {
          "data": {
            "text/plain": [
              "array([[0.        , 0.6876236 , 0.        , 0.28108867, 0.        ,\n",
              "        0.53864762, 0.28108867, 0.        , 0.28108867]])"
            ]
          },
          "execution_count": 54,
          "metadata": {},
          "output_type": "execute_result"
        }
      ],
      "source": [
        "transform(corpus)[1].toarray()"
      ]
    },
    {
      "cell_type": "code",
      "execution_count": null,
      "metadata": {
        "id": "BnjTxwW60gMy",
        "outputId": "6b8f1470-2033-4e04-a3c0-b478b5585dfc"
      },
      "outputs": [
        {
          "name": "stderr",
          "output_type": "stream",
          "text": [
            "100%|██████████████████████████████████████████████████████████████████████████████████| 4/4 [00:00<00:00, 3998.38it/s]"
          ]
        },
        {
          "name": "stdout",
          "output_type": "stream",
          "text": [
            "  (0, 1)\t0.6876235979836937\n",
            "  (0, 3)\t0.2810886740337529\n",
            "  (0, 5)\t0.5386476208856762\n",
            "  (0, 6)\t0.2810886740337529\n",
            "  (0, 8)\t0.2810886740337529\n"
          ]
        },
        {
          "name": "stderr",
          "output_type": "stream",
          "text": [
            "\n"
          ]
        }
      ],
      "source": [
        "print(transform(corpus)[1])"
      ]
    },
    {
      "cell_type": "markdown",
      "metadata": {
        "id": "MMxBmVZExLjK"
      },
      "source": [
        "## Task-2"
      ]
    },
    {
      "cell_type": "markdown",
      "metadata": {
        "id": "51j_OtqAxLjL"
      },
      "source": [
        "<font face='georgia'>\n",
        "    <h4><strong>2. Implement max features functionality:</strong></h4>\n",
        "\n",
        "<ul>\n",
        "    <li> As a part of this task you have to modify your fit and transform functions so that your vocab will contain only 50 terms with top idf scores.</li>\n",
        "    <br>\n",
        "    <li>This task is similar to your previous task, just that here your vocabulary is limited to only top 50 features names based on their idf values. Basically your output will have exactly 50 columns and the number of rows will depend on the number of documents you have in your corpus.</li>\n",
        "    <br>\n",
        "    <li>Here you will be give a pickle file, with file name <strong>cleaned_strings</strong>. You would have to load the corpus from this file and use it as input to your tfidf vectorizer.</li>\n",
        "    <br>\n",
        "    <li>Steps to approach this task:\n",
        "    <ol>\n",
        "        <li> You would have to write both fit and transform methods for your custom implementation of tfidf vectorizer, just like in the previous task. Additionally, here you have to limit the number of features generated to 50 as described above.</li>\n",
        "        <li> Now sort your vocab based in descending order of idf values and print out the words in the sorted voacb after you fit your data. Here you should be getting only 50 terms in your vocab. And make sure to print idf values for each term in your vocab. </li>\n",
        "        <li> Make sure the output of your implementation is a sparse matrix. Before generating the final output, you need to normalize your sparse matrix using L2 normalization. You can refer to this link https://scikit-learn.org/stable/modules/generated/sklearn.preprocessing.normalize.html </li>\n",
        "        <li> Now check the output of a single document in your collection of documents,  you can convert the sparse matrix related only to that document into dense matrix and print it. And this dense matrix should contain 1 row and 50 columns. </li>\n",
        "        </ol>\n",
        "    </li>\n",
        "    <br>\n",
        "   </ul>"
      ]
    },
    {
      "cell_type": "code",
      "execution_count": null,
      "metadata": {
        "id": "NHxPLlwNxLjL",
        "outputId": "9abd8e08-0e24-4975-9a13-4d3636d60323"
      },
      "outputs": [
        {
          "name": "stdout",
          "output_type": "stream",
          "text": [
            "Number of documents in corpus =  4\n",
            "<class 'list'>\n"
          ]
        }
      ],
      "source": [
        "# Below is the code to load the cleaned_strings pickle file provided\n",
        "# Here corpus is of list typ\n",
        "import pickle\n",
        "with open('cleaned_strings', 'rb') as f:\n",
        "    corpus_50 = pickle.load(f)\n",
        "\n",
        "# printing the length of the corpus loaded\n",
        "print(\"Number of documents in corpus = \",len(corpus))\n",
        "# print(corpus)\n",
        "print(type(corpus))\n"
      ]
    },
    {
      "cell_type": "code",
      "execution_count": null,
      "metadata": {
        "id": "Obx4kyAN0gMz"
      },
      "outputs": [],
      "source": [
        "def fit_50(corpus):\n",
        "    if isinstance(corpus,(list,)):\n",
        "        unique_wrd= set()\n",
        "        for row in corpus:\n",
        "            for word in row.split(\" \"):\n",
        "                if len(word)<2:\n",
        "                    pass\n",
        "                unique_wrd.add(word)\n",
        "        unique_wrd=sorted(list(unique_wrd))\n",
        "\n",
        "        vocab2={j:i for i,j in enumerate (unique_wrd)}\n",
        "\n",
        "        rows=[]\n",
        "        columns=[]\n",
        "        values=[]\n",
        "        idf_list=[]\n",
        "\n",
        "\n",
        "        for word in unique_wrd:\n",
        "            count=0\n",
        "            for row in corpus:\n",
        "                if word in row:\n",
        "                    count+=1\n",
        "            idf = 1 + (math.log(((1 + len(corpus)) / (1 + count))))\n",
        "\n",
        "            idf_list.append(idf)\n",
        "\n",
        "        idf_list_copy=idf_list.copy()\n",
        "\n",
        "        dict2=dict(zip(unique_wrd,idf_list_copy))\n",
        "\n",
        "\n",
        "        dict3={k: v for k, v in sorted(dict2.items(), key=lambda item:item[1],reverse=True)}\n",
        "        list_dict3=list(dict3.items())\n",
        "        uniq_wrd=[list_dict3[i][0] for i in range(50)]\n",
        "        idf_list_50=[list_dict3[i][1] for i in range(50)]\n",
        "\n",
        "        final_vocab=[]\n",
        "        for x in list(dict3)[0:50]:\n",
        "            final_vocab.append(x)\n",
        "        last_vocab={j:i for i,j in enumerate (final_vocab)}\n",
        "        idf_dict={uniq_wrd[i]:idf_list_50[i] for i in range(len(uniq_wrd))}\n",
        "        return idf_dict,last_vocab\n"
      ]
    },
    {
      "cell_type": "code",
      "execution_count": null,
      "metadata": {
        "id": "mJAPMprZ0gMz",
        "outputId": "85e035c0-fe72-4ea8-f035-5397472dc618"
      },
      "outputs": [
        {
          "data": {
            "text/plain": [
              "({'aailiyah': 6.922918004572872,\n",
              "  'abandoned': 6.922918004572872,\n",
              "  'abroad': 6.922918004572872,\n",
              "  'abstruse': 6.922918004572872,\n",
              "  'academy': 6.922918004572872,\n",
              "  'accents': 6.922918004572872,\n",
              "  'accessible': 6.922918004572872,\n",
              "  'acclaimed': 6.922918004572872,\n",
              "  'accolades': 6.922918004572872,\n",
              "  'accurately': 6.922918004572872,\n",
              "  'achille': 6.922918004572872,\n",
              "  'ackerman': 6.922918004572872,\n",
              "  'adams': 6.922918004572872,\n",
              "  'added': 6.922918004572872,\n",
              "  'admins': 6.922918004572872,\n",
              "  'admiration': 6.922918004572872,\n",
              "  'admitted': 6.922918004572872,\n",
              "  'adrift': 6.922918004572872,\n",
              "  'adventure': 6.922918004572872,\n",
              "  'aesthetically': 6.922918004572872,\n",
              "  'affected': 6.922918004572872,\n",
              "  'affleck': 6.922918004572872,\n",
              "  'afternoon': 6.922918004572872,\n",
              "  'agreed': 6.922918004572872,\n",
              "  'aimless': 6.922918004572872,\n",
              "  'aired': 6.922918004572872,\n",
              "  'akasha': 6.922918004572872,\n",
              "  'alert': 6.922918004572872,\n",
              "  'alike': 6.922918004572872,\n",
              "  'allison': 6.922918004572872,\n",
              "  'allowing': 6.922918004572872,\n",
              "  'alongside': 6.922918004572872,\n",
              "  'amateurish': 6.922918004572872,\n",
              "  'amazed': 6.922918004572872,\n",
              "  'amazingly': 6.922918004572872,\n",
              "  'amusing': 6.922918004572872,\n",
              "  'amust': 6.922918004572872,\n",
              "  'anatomist': 6.922918004572872,\n",
              "  'angela': 6.922918004572872,\n",
              "  'angelina': 6.922918004572872,\n",
              "  'angry': 6.922918004572872,\n",
              "  'anguish': 6.922918004572872,\n",
              "  'angus': 6.922918004572872,\n",
              "  'animals': 6.922918004572872,\n",
              "  'animated': 6.922918004572872,\n",
              "  'anita': 6.922918004572872,\n",
              "  'anniversary': 6.922918004572872,\n",
              "  'anthony': 6.922918004572872,\n",
              "  'antithesis': 6.922918004572872,\n",
              "  'anyway': 6.922918004572872},\n",
              " {'aailiyah': 0,\n",
              "  'abandoned': 1,\n",
              "  'abroad': 2,\n",
              "  'abstruse': 3,\n",
              "  'academy': 4,\n",
              "  'accents': 5,\n",
              "  'accessible': 6,\n",
              "  'acclaimed': 7,\n",
              "  'accolades': 8,\n",
              "  'accurately': 9,\n",
              "  'achille': 10,\n",
              "  'ackerman': 11,\n",
              "  'adams': 12,\n",
              "  'added': 13,\n",
              "  'admins': 14,\n",
              "  'admiration': 15,\n",
              "  'admitted': 16,\n",
              "  'adrift': 17,\n",
              "  'adventure': 18,\n",
              "  'aesthetically': 19,\n",
              "  'affected': 20,\n",
              "  'affleck': 21,\n",
              "  'afternoon': 22,\n",
              "  'agreed': 23,\n",
              "  'aimless': 24,\n",
              "  'aired': 25,\n",
              "  'akasha': 26,\n",
              "  'alert': 27,\n",
              "  'alike': 28,\n",
              "  'allison': 29,\n",
              "  'allowing': 30,\n",
              "  'alongside': 31,\n",
              "  'amateurish': 32,\n",
              "  'amazed': 33,\n",
              "  'amazingly': 34,\n",
              "  'amusing': 35,\n",
              "  'amust': 36,\n",
              "  'anatomist': 37,\n",
              "  'angela': 38,\n",
              "  'angelina': 39,\n",
              "  'angry': 40,\n",
              "  'anguish': 41,\n",
              "  'angus': 42,\n",
              "  'animals': 43,\n",
              "  'animated': 44,\n",
              "  'anita': 45,\n",
              "  'anniversary': 46,\n",
              "  'anthony': 47,\n",
              "  'antithesis': 48,\n",
              "  'anyway': 49})"
            ]
          },
          "execution_count": 58,
          "metadata": {},
          "output_type": "execute_result"
        }
      ],
      "source": [
        "fit_50(corpus_50)"
      ]
    },
    {
      "cell_type": "code",
      "execution_count": null,
      "metadata": {
        "id": "9ibfEx4W0gM0"
      },
      "outputs": [],
      "source": [
        "def transform_50(corpus):\n",
        "    idf_dict,vocab=fit_50(corpus)\n",
        "    rows=[]\n",
        "    columns=[]\n",
        "    values=[]\n",
        "    unique_word=list(idf_dict.keys())\n",
        "\n",
        "#     idf_dict={unique_word[i]:idf_list[i] for i in range(len(unique_word))}\n",
        "\n",
        "\n",
        "\n",
        "\n",
        "    for idx, row in enumerate (tqdm(corpus)):\n",
        "        word_count=dict(Counter(row.split()))\n",
        "\n",
        "        for word,freq in word_count.items():\n",
        "            sum_freq=np.sum(freq)\n",
        "            if len(word)<2:\n",
        "                pass\n",
        "\n",
        "            tf=freq/len(word_count)\n",
        "\n",
        "            if word not in unique_word:\n",
        "                idf=0\n",
        "            else:\n",
        "                idf=idf_dict.get(word)\n",
        "\n",
        "            tfidf=tf*idf\n",
        "\n",
        "            col_indx=vocab.get(word,-1)\n",
        "\n",
        "            if tfidf!=0:\n",
        "                rows.append(idx)\n",
        "                columns.append(vocab.get(word))\n",
        "                values.append(tfidf)\n",
        "\n",
        "    final_mat=csr_matrix((values,(rows,columns)),shape=(len(corpus),len(vocab)))\n",
        "\n",
        "    normal_final=normalize(final_mat,norm='l2')\n",
        "\n",
        "    return normal_final"
      ]
    },
    {
      "cell_type": "code",
      "execution_count": null,
      "metadata": {
        "id": "szbP2WGY0gM0",
        "outputId": "44510132-489f-4aa4-b28b-5bb6340de07a"
      },
      "outputs": [
        {
          "name": "stderr",
          "output_type": "stream",
          "text": [
            "100%|██████████████████████████████████████████████████████████████████████████████| 746/746 [00:00<00:00, 8107.81it/s]"
          ]
        },
        {
          "name": "stdout",
          "output_type": "stream",
          "text": [
            "  (0, 24)\t1.0\n",
            "  (19, 43)\t1.0\n",
            "  (68, 21)\t1.0\n",
            "  (72, 23)\t1.0\n",
            "  (74, 25)\t1.0\n",
            "  (89, 47)\t1.0\n",
            "  (135, 3)\t0.3779644730092272\n",
            "  (135, 9)\t0.3779644730092272\n",
            "  (135, 15)\t0.3779644730092272\n",
            "  (135, 17)\t0.3779644730092272\n",
            "  (135, 29)\t0.3779644730092272\n",
            "  (135, 32)\t0.3779644730092272\n",
            "  (135, 40)\t0.3779644730092272\n",
            "  (176, 39)\t1.0\n",
            "  (192, 18)\t1.0\n",
            "  (193, 20)\t1.0\n",
            "  (216, 2)\t1.0\n",
            "  (225, 16)\t1.0\n",
            "  (227, 14)\t1.0\n",
            "  (241, 35)\t1.0\n",
            "  (270, 1)\t1.0\n",
            "  (290, 22)\t1.0\n",
            "  (341, 34)\t1.0\n",
            "  (344, 33)\t1.0\n",
            "  (348, 8)\t1.0\n",
            "  (409, 5)\t1.0\n",
            "  (430, 31)\t1.0\n",
            "  (457, 36)\t1.0\n",
            "  (461, 4)\t0.7071067811865475\n",
            "  (461, 44)\t0.7071067811865475\n",
            "  (465, 30)\t1.0\n",
            "  (475, 28)\t1.0\n",
            "  (493, 6)\t1.0\n",
            "  (500, 38)\t1.0\n",
            "  (544, 41)\t1.0\n",
            "  (548, 0)\t0.7071067811865475\n",
            "  (548, 26)\t0.7071067811865475\n",
            "  (608, 12)\t1.0\n",
            "  (612, 10)\t1.0\n",
            "  (620, 37)\t0.7071067811865476\n",
            "  (620, 42)\t0.7071067811865476\n",
            "  (632, 7)\t1.0\n",
            "  (644, 11)\t0.5773502691896257\n",
            "  (644, 45)\t0.5773502691896257\n",
            "  (644, 46)\t0.5773502691896257\n",
            "  (667, 19)\t1.0\n",
            "  (691, 27)\t1.0\n",
            "  (699, 48)\t1.0\n",
            "  (722, 13)\t1.0\n",
            "  (735, 49)\t1.0\n"
          ]
        },
        {
          "name": "stderr",
          "output_type": "stream",
          "text": [
            "\n"
          ]
        }
      ],
      "source": [
        "print(transform_50(corpus_50))"
      ]
    },
    {
      "cell_type": "code",
      "execution_count": null,
      "metadata": {
        "id": "DEJOvo4p0gM0"
      },
      "outputs": [],
      "source": []
    },
    {
      "cell_type": "code",
      "execution_count": null,
      "metadata": {
        "id": "koVqUPQ20gM0"
      },
      "outputs": [],
      "source": []
    }
  ],
  "metadata": {
    "colab": {
      "provenance": []
    },
    "kernelspec": {
      "display_name": "Python 3 (ipykernel)",
      "language": "python",
      "name": "python3"
    },
    "language_info": {
      "codemirror_mode": {
        "name": "ipython",
        "version": 3
      },
      "file_extension": ".py",
      "mimetype": "text/x-python",
      "name": "python",
      "nbconvert_exporter": "python",
      "pygments_lexer": "ipython3",
      "version": "3.9.7"
    }
  },
  "nbformat": 4,
  "nbformat_minor": 0
}